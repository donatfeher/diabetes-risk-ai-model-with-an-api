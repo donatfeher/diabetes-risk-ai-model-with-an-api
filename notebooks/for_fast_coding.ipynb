{
 "cells": [
  {
   "cell_type": "code",
   "execution_count": 1,
   "metadata": {},
   "outputs": [
    {
     "name": "stdout",
     "output_type": "stream",
     "text": [
      "Hiba: A modellfájl nem található.\n"
     ]
    }
   ],
   "source": [
    "import pickle\n",
    "\n",
    "model_path = \"models/final_model.pkl\"\n",
    "try:\n",
    "    with open(model_path, \"rb\") as f:\n",
    "        model = pickle.load(f)\n",
    "    print(\"Modell sikeresen betöltve!\")\n",
    "except FileNotFoundError:\n",
    "    print(\"Hiba: A modellfájl nem található.\")\n",
    "except Exception as e:\n",
    "    print(f\"Hiba a modell betöltése során: {e}\")"
   ]
  },
  {
   "cell_type": "code",
   "execution_count": 8,
   "metadata": {},
   "outputs": [
    {
     "name": "stdout",
     "output_type": "stream",
     "text": [
      "Config sikeresen betöltve: /Users/feherdonat/Munkák/df-cubix-vizsgaf/notebooks/../config.yml\n"
     ]
    }
   ],
   "source": [
    "import os\n",
    "\n",
    "# Jelenlegi munkakönyvtár meghatározása\n",
    "project_root = os.getcwd()  # Notebook esetén a getcwd() az aktuális könyvtár\n",
    "config_path = os.path.join(project_root, \"../config.yml\")\n",
    "\n",
    "# Töltsd be a konfigurációt\n",
    "try:\n",
    "    with open(config_path, \"r\") as config_file:\n",
    "        config = yaml.safe_load(config_file)\n",
    "    print(f\"Config sikeresen betöltve: {config_path}\")\n",
    "except FileNotFoundError:\n",
    "    print(f\"Hiba: A config.yml fájl nem található ezen az úton: {config_path}\")\n",
    "    config = None\n"
   ]
  },
  {
   "cell_type": "code",
   "execution_count": null,
   "metadata": {},
   "outputs": [],
   "source": []
  }
 ],
 "metadata": {
  "kernelspec": {
   "display_name": "my_project_env",
   "language": "python",
   "name": "python3"
  },
  "language_info": {
   "codemirror_mode": {
    "name": "ipython",
    "version": 3
   },
   "file_extension": ".py",
   "mimetype": "text/x-python",
   "name": "python",
   "nbconvert_exporter": "python",
   "pygments_lexer": "ipython3",
   "version": "3.9.20"
  }
 },
 "nbformat": 4,
 "nbformat_minor": 2
}
